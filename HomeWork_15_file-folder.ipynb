{
 "cells": [
  {
   "cell_type": "markdown",
   "metadata": {},
   "source": [
    "- Tạo folder test-dir trong thư mục hiện tại\n",
    "- Tạo random n file text: text-1.txt, text-2.txt, ... mỗi file có m dòngrandom. n, m nhập vào từ bàn phím.\n",
    "- Tạo ra k subfolder tên là test-sub-dir-1, test-sub-dir-2, ... trong foldertest-dir. copy tất cả các file trong phần b vào các sub-folder này"
   ]
  },
  {
   "cell_type": "code",
   "execution_count": 34,
   "metadata": {},
   "outputs": [],
   "source": [
    "os.mkdir('test-dir')"
   ]
  },
  {
   "cell_type": "code",
   "execution_count": 10,
   "metadata": {},
   "outputs": [],
   "source": [
    "import string    \n",
    "import random"
   ]
  },
  {
   "cell_type": "code",
   "execution_count": 35,
   "metadata": {},
   "outputs": [],
   "source": [
    "# input\n",
    "n = int(input(\"number of files: \"))\n",
    "m = int(input(\"number of lines: \"))\n",
    "\n",
    "# generate files:\n",
    "for i in range(n):\n",
    "    with open(f\"D:\\\\Py\\\\test-dir\\\\text-{i+1}.txt\", \"w\") as f:\n",
    "\n",
    "# content:\n",
    "        str = \"\"\n",
    "        for i in range(m):\n",
    "            S = 10  # number of characters in the string.  \n",
    "            # call random.choices() string module to find the string in Uppercase + numeric data.  \n",
    "            ran = ''.join(random.choices(string.ascii_uppercase + string.digits, k = S))\n",
    "            str = str + ran + \"\\n\"\n",
    "        f.write(str)"
   ]
  },
  {
   "cell_type": "code",
   "execution_count": 36,
   "metadata": {},
   "outputs": [],
   "source": [
    "import shutil\n",
    "file_list = os.listdir(\"D:\\\\Py\\\\test-dir\")\n",
    "\n",
    "k = int(input('number of subfolder: '))\n",
    "\n",
    "#generate subfolders and copy files:\n",
    "for i in range(k):\n",
    "    os.mkdir(f\"D:\\\\Py\\\\test-dir\\\\test-sub-dir{i+1}\")\n",
    "    for j in file_list:\n",
    "        shutil.copy(f\"D:\\\\Py\\\\test-dir\\{j}\", f\"D:\\\\Py\\\\test-dir\\\\test-sub-dir{i+1}\")\n",
    "    \n",
    "    "
   ]
  },
  {
   "cell_type": "code",
   "execution_count": 33,
   "metadata": {},
   "outputs": [],
   "source": [
    "for i in range(k):\n",
    "    shutil.rmtree(f\"D:\\\\Py\\\\test-dir\\\\test-sub-dir{i+1}\")"
   ]
  },
  {
   "cell_type": "code",
   "execution_count": null,
   "metadata": {},
   "outputs": [],
   "source": [
    "shutil.rmtree(f\"D:\\\\Py\\\\test-dir\")"
   ]
  },
  {
   "cell_type": "markdown",
   "metadata": {},
   "source": [
    "- Nhập vào 1 chuỗi từ bàn phím. tìm kiếm trong các file text ở foldergốc (không tính sub-folder) chuỗi đó. Nếu có in ra theo cú pháp: tênfile - dòng số - ký tự bắt đầu trong dòng."
   ]
  },
  {
   "cell_type": "code",
   "execution_count": 90,
   "metadata": {},
   "outputs": [
    {
     "name": "stdout",
     "output_type": "stream",
     "text": [
      "String: PHI\n",
      "File name: text-2.txt \n",
      "line: 1 \n",
      "Start with: E66\n",
      "\n",
      "\n"
     ]
    }
   ],
   "source": [
    "s = input(\"find:\")\n",
    "print('String:', s)\n",
    "\n",
    "lsf = []\n",
    "values = []\n",
    "\n",
    "# list of text file names\n",
    "for i in os.listdir(r'D:\\Py\\test-dir'):\n",
    "    if \"text\" in i:\n",
    "        lsf.append(i)\n",
    "\n",
    "# get the list of files in each file\n",
    "for i in range(len(lsf)):\n",
    "    with open(F'D:\\\\Py\\\\test-dir\\{lsf[i]}',\"r\") as f:\n",
    "        a = f.readlines()\n",
    "\n",
    "        # remove \\n\n",
    "        b = []\n",
    "        for j in a:\n",
    "            j = j.replace('\\n','')\n",
    "            b.append(j)\n",
    "\n",
    "        # get required values\n",
    "        for l in range(len(b)):\n",
    "            if s in b[l]:\n",
    "                value = f'File name: {lsf[i]} \\nline: {l+1} \\nStart with: {b[l][:3]}\\n\\n'\n",
    "                values.append(value)\n",
    "\n",
    "# combine all values to get final result\n",
    "result = ''\n",
    "for i in values:\n",
    "    result += i\n",
    "\n",
    "# print\n",
    "if result == '':\n",
    "    print(f\"Can't not find \\\"{s}\\\"\")\n",
    "else:\n",
    "    print(result)"
   ]
  },
  {
   "cell_type": "markdown",
   "metadata": {},
   "source": [
    "- Tìm kiếm tất cả các file text trong folder gốc - sub-folder chuỗi đãnhập. Nếu có in ra theo cú pháp: tên sub-folder - tên file - dòng số -ký tự bắt đầu trong dòng."
   ]
  },
  {
   "cell_type": "code",
   "execution_count": 9,
   "metadata": {},
   "outputs": [
    {
     "name": "stdout",
     "output_type": "stream",
     "text": [
      "String: 4X\n",
      "Folder: test-dir \n",
      "File name: text-2.txt \n",
      "line: 2 \n",
      "Start with: ODY\n",
      "\n",
      "\n",
      "Folder: test-sub-dir1 \n",
      "File name: text-2.txt \n",
      "line: 2 \n",
      "Start with: ODY\n",
      "\n",
      "Folder: test-sub-dir2 \n",
      "File name: text-2.txt \n",
      "line: 2 \n",
      "Start with: ODY\n",
      "\n",
      "Folder: test-sub-dir3 \n",
      "File name: text-2.txt \n",
      "line: 2 \n",
      "Start with: ODY\n",
      "\n",
      "\n"
     ]
    }
   ],
   "source": [
    "s = input(\"find:\")\n",
    "print('String:', s)\n",
    "\n",
    "#_____________________________________________________________________________\n",
    "# Tìm trong folder gốc\n",
    "\n",
    "lsf = []\n",
    "values = []\n",
    "\n",
    "# list of text file names\n",
    "for i in os.listdir(r'D:\\Py\\test-dir'):\n",
    "    if \"text\" in i:\n",
    "        lsf.append(i)\n",
    "\n",
    "# get the list of files in each file\n",
    "for i in range(len(lsf)):\n",
    "    with open(F'D:\\\\Py\\\\test-dir\\{lsf[i]}',\"r\") as f:\n",
    "        a = f.readlines()\n",
    "\n",
    "        # remove \\n\n",
    "        b = []\n",
    "        for j in a:\n",
    "            j = j.replace('\\n','')\n",
    "            b.append(j)\n",
    "\n",
    "        # get required values\n",
    "        for l in range(len(b)):\n",
    "            if s in b[l]:\n",
    "                value = f'Folder: test-dir \\nFile name: {lsf[i]} \\nline: {l+1} \\nStart with: {b[l][:3]}\\n\\n'\n",
    "                values.append(value)\n",
    "\n",
    "# combine all values to get final result\n",
    "result = ''\n",
    "for i in values:\n",
    "    result += i\n",
    "\n",
    "# print\n",
    "if result == '':\n",
    "    print(f\"Can't not find \\\"{s}\\\"\")\n",
    "else:\n",
    "    print(result)\n",
    "\n",
    "\n",
    "\n",
    "\n",
    "\n",
    "#_____________________________________________________________________\n",
    "# Tìm trong sub folder\n",
    "\n",
    "\n",
    "lsdir = []\n",
    "values2 = [] \n",
    "\n",
    "for i in os.listdir(r'D:\\Py\\test-dir'):\n",
    "    if \"test-sub-dir\" in i:\n",
    "        lsdir.append(i)\n",
    "\n",
    "for i in range(len(lsdir)):\n",
    "    for j in lsf:\n",
    "        with open(F'D:\\\\Py\\\\test-dir\\{lsdir[i]}\\{j}',\"r\") as f:\n",
    "            a = f.readlines()\n",
    "\n",
    "            # remove \\n\n",
    "            b = []\n",
    "            for e in a:\n",
    "                e = e.replace('\\n','')\n",
    "                b.append(e)\n",
    "\n",
    "            # get required values\n",
    "            for l in range(len(b)):\n",
    "                if s in b[l]:\n",
    "                    value2 = f'Folder: {lsdir[i]} \\nFile name: {lsf[l]} \\nline: {l+1} \\nStart with: {b[l][:3]}\\n\\n'\n",
    "                    values2.append(value2)    \n",
    "\n",
    "\n",
    "# combine all values to get final result\n",
    "result2 = ''\n",
    "for i in values2:\n",
    "    result2 += i\n",
    "\n",
    "# print\n",
    "if result2 == '':\n",
    "    print(f\"Can't not find \\\"{s}\\\"\")\n",
    "else:\n",
    "    print(result2)"
   ]
  },
  {
   "cell_type": "markdown",
   "metadata": {},
   "source": [
    "Quản lý nhân sự"
   ]
  },
  {
   "cell_type": "code",
   "execution_count": 54,
   "metadata": {},
   "outputs": [
    {
     "name": "stdout",
     "output_type": "stream",
     "text": [
      "3 _ List all Employee:\n",
      "Trần Văn Mãnh Thú\t12\t123\n",
      "Tào Mạnh Đức\t24\t500\n",
      "Lê Trọng Lượng\t11\t400\n",
      "\n",
      "1 _ Add Employee\n",
      "Hùng Bọ Ngựa has been added\n",
      "1 _ Add Employee\n",
      "Trương Văn Phình has been added\n",
      "3 _ List all Employee:\n",
      "Trần Văn Mãnh Thú\t12\t123\n",
      "Tào Mạnh Đức\t24\t500\n",
      "Lê Trọng Lượng\t11\t400\n",
      "Hùng Bọ Ngựa\t19\t200\n",
      "Trương Văn Phình\t22\t500\n",
      "\n",
      "2 _ Remove Employee\n",
      "Trương Văn Phình has been removed\n",
      "3 _ List all Employee:\n",
      "Trần Văn Mãnh Thú\t12\t123\n",
      "Tào Mạnh Đức\t24\t500\n",
      "Lê Trọng Lượng\t11\t400\n",
      "Hùng Bọ Ngựa\t19\t200\n",
      "\n",
      "3 _ List all Employee:\n",
      "Trần Văn Mãnh Thú\t12\t123\n",
      "Tào Mạnh Đức\t24\t500\n",
      "Lê Trọng Lượng\t11\t400\n",
      "Hùng Bọ Ngựa\t19\t200\n",
      "\n"
     ]
    }
   ],
   "source": [
    "\n",
    "import string\n",
    "import random\n",
    "\n",
    "\n",
    "while True:\n",
    "    s = int(input('''\n",
    "                    Mode:\n",
    "                    0 _ Exit ;\n",
    "                    1 _ Add Employee ;\n",
    "                    2 _ Remove Employee ;\n",
    "                    3 _ List all Employee\n",
    "                    '''))\n",
    "\n",
    "    if s == 0:\n",
    "        break\n",
    "\n",
    "    \n",
    "    if s == 1:\n",
    "        print('1 _ Add Employee')\n",
    "        name = input(\"Employee's name: \")\n",
    "        age = input('Employee\\'s age: ')\n",
    "        salary = input(\"Employee's salary: \")\n",
    "    \n",
    "        \n",
    "        em = name + \"\\t\" + age + \"\\t\" + salary + \"\\n\"\n",
    "\n",
    "        with open(\"employee.txt\", 'a',encoding= \"utf-8\" ) as f:\n",
    "            f.write(em)\n",
    "        \n",
    "            print(name, \"has been added\")\n",
    "\n",
    "\n",
    "\n",
    "    if s == 2:\n",
    "        print('2 _ Remove Employee')\n",
    "        name = input(\"Employee's name you want to remove: \")\n",
    "        age = input(\"Employee's age you want to remove: \")\n",
    "        salary = input(\"Employee's salary you want to remove: \")\n",
    "        \n",
    "        rm = name + \"\\t\" + age + \"\\t\" + salary + \"\\n\"\n",
    "        \n",
    "        with open(\"employee.txt\",\"r+\",encoding= \"utf-8\" ) as f:\n",
    "            text = f.read()\n",
    "            text = text.replace(rm, \"\")\n",
    "        \n",
    "        with open(\"employee.txt\",\"w\",encoding= \"utf-8\" ) as ff:\n",
    "            ff.write(text)\n",
    "    \n",
    "        print(name, \"has been removed\")\n",
    "        \n",
    "\n",
    "    if s == 3:\n",
    "        print('3 _ List all Employee:')\n",
    "        with open(\"employee.txt\", 'r',encoding= \"utf-8\" ) as f:\n",
    "            text = f.read()\n",
    "        print(text)\n",
    "\n"
   ]
  },
  {
   "cell_type": "code",
   "execution_count": 25,
   "metadata": {},
   "outputs": [],
   "source": []
  },
  {
   "cell_type": "code",
   "execution_count": 50,
   "metadata": {},
   "outputs": [
    {
     "name": "stdout",
     "output_type": "stream",
     "text": [
      "Lê Văn Lợi Hại hehe\n"
     ]
    }
   ],
   "source": [
    "print(name, 'hehe')"
   ]
  },
  {
   "cell_type": "code",
   "execution_count": null,
   "metadata": {},
   "outputs": [],
   "source": []
  }
 ],
 "metadata": {
  "kernelspec": {
   "display_name": "Python 3.9.7 ('base')",
   "language": "python",
   "name": "python3"
  },
  "language_info": {
   "codemirror_mode": {
    "name": "ipython",
    "version": 3
   },
   "file_extension": ".py",
   "mimetype": "text/x-python",
   "name": "python",
   "nbconvert_exporter": "python",
   "pygments_lexer": "ipython3",
   "version": "3.9.7"
  },
  "orig_nbformat": 4,
  "vscode": {
   "interpreter": {
    "hash": "2043299c89c8cd0b4d1a6f5cf4529bd58e6a4e0fe3181a25e0d328c821cdc5c5"
   }
  }
 },
 "nbformat": 4,
 "nbformat_minor": 2
}
