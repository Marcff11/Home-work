{
 "cells": [
  {
   "cell_type": "code",
   "execution_count": 24,
   "metadata": {},
   "outputs": [
    {
     "name": "stdout",
     "output_type": "stream",
     "text": [
      "a < b\n"
     ]
    }
   ],
   "source": [
    "###1.\n",
    "##1.1. Nhập vào hai số a, b. Đổi giá trị a, b và in ra kết quả. Trong a, b, số nào lớn hơn?\n",
    "# Nhập vào 3 số a, b, c. Số nào lớn nhất? Sắp xếp theo thứ tự tăng dần\n",
    "#-------------------------------------------------------------------------------------\n",
    "\n",
    "#input\n",
    "a = float(input('Nhập a: '))\n",
    "b = float(input('Nhập b: '))\n",
    "# convert a to b, b to a\n",
    "c = a\n",
    "a = b\n",
    "b = c\n",
    "# comparison of a and b\n",
    "if a > b:\n",
    "    print('a > b')\n",
    "elif a < b:\n",
    "    print(\"a < b\")\n",
    "else: \n",
    "    print('a = b')\n"
   ]
  },
  {
   "cell_type": "code",
   "execution_count": 6,
   "metadata": {},
   "outputs": [
    {
     "name": "stdout",
     "output_type": "stream",
     "text": [
      "a = 44.0\n",
      "b =  99.0\n",
      "c =  33.0\n",
      "Sắp xếp:\n",
      "33.0 44.0 99.0\n",
      "Số lớn nhất là: 99.0\n"
     ]
    }
   ],
   "source": [
    "## 1.2. Nhập vào 3 số a, b, c. Số nào lớn nhất? Sắp xếp theo thứ tự tăng dần\n",
    "#---------------------------------------------------------------------------------------------\n",
    "\n",
    "a = float(input('Nhập a: '))\n",
    "b = float(input('Nhập b: '))\n",
    "c = float(input('Nhập c: '))\n",
    "print('a =', a)\n",
    "print('b = ',b)\n",
    "print('c = ',c)\n",
    "\n",
    "print('Sắp xếp:')\n",
    "\n",
    "# b in the middle\n",
    "if (a <= b or c <= b) and (b <= a or b <= c):\n",
    "    if a <= c:\n",
    "        print(a,b,c)\n",
    "        print('Số lớn nhất là:',c)\n",
    "    else:\n",
    "        print(c,b,a)\n",
    "        print('Số lớn nhất là:',a)\n",
    "\n",
    "# a in the middle\n",
    "if (a >= b or a >= c) and (a <= b or a <= c):  \n",
    "    if b <= c:\n",
    "        print(b,a,c)\n",
    "        print('Số lớn nhất là:',c)\n",
    "    else:\n",
    "        print(c,a,b)\n",
    "        print('Số lớn nhất là:',b)\n",
    "\n",
    "# c in the middle\n",
    "if (c >= a or c >= b) and (c <= a or c <= b):\n",
    "    if a <= b:\n",
    "        print(a,c,b)\n",
    "        print('Số lớn nhất là:',b)\n",
    "    else:\n",
    "        print(b,c,a)\n",
    "        print('Số lớn nhất là:',a)\n",
    "\n"
   ]
  },
  {
   "cell_type": "code",
   "execution_count": 22,
   "metadata": {},
   "outputs": [
    {
     "name": "stdout",
     "output_type": "stream",
     "text": [
      "a = 3.0\n",
      "b =  4.0\n",
      "c =  5.0\n",
      "Tam giác này tồn tại\n",
      "Đây là tam giác vuông\n"
     ]
    }
   ],
   "source": [
    "### 2.\n",
    "# Nhập vào a, b, c là độ dài 3 cạnh của một tam giác:\n",
    "# 1. Tam giác đó có tồn tại không?\n",
    "# 2. Nó có phải tam giác đều không?\n",
    "# 3. Nó có phải tam giác vuông không?\n",
    "# 4. Nó có phải tam giác vuông cân không?\n",
    "#------------------------------------------------------------------------------------------------\n",
    "\n",
    "\n",
    "a = float(input('Nhập a: '))\n",
    "b = float(input('Nhập b: '))\n",
    "c = float(input('Nhập c: '))\n",
    "print('a =', a)\n",
    "print('b = ',b)\n",
    "print('c = ',c)\n",
    "\n",
    "if ((a+b)>c) and ((a+c) > b) and ((c+b) > a):\n",
    "    print(\"Tam giác này tồn tại\")\n",
    "else: \n",
    "    print('Tam giác này không tồn tại')\n",
    "if a == b and b == c:\n",
    "    print(\"Đây là giác đều\")\n",
    "if (a**2 + b**2 == c**2) or (a**2 + c**2 == b**2) or (b**2 + c**2 == a**2):\n",
    "    print(\"Đây là tam giác vuông\")\n",
    "if ((a**2 + b**2 == c**2) and (a == b)) or ((a**2 + c**2 == b**2) and (a == c)) or ((b**2 + c**2 == a**2) and (b == c)):\n",
    "    print('Đây là tam giác vuông cân')\n",
    "\n",
    "\n"
   ]
  },
  {
   "cell_type": "code",
   "execution_count": 25,
   "metadata": {},
   "outputs": [
    {
     "name": "stdout",
     "output_type": "stream",
     "text": [
      "55 giờ 12 phút 36 giây\n",
      "Giờ không hợp lệ\n"
     ]
    }
   ],
   "source": [
    "# Nhập vào giờ, phút, giây. Kiểm tra xem giờ, phút, giây có hợp lệ không\n",
    "#-----------------------------------------------------------------------------------------------------------------------------------\n",
    "Giờ = int(input('Nhập giờ: '))\n",
    "Phút = int(input('Nhập phút: '))\n",
    "Giây = int(input('Nhập giây: '))\n",
    "print(Giờ,'giờ', Phút, 'phút',Giây, 'giây')\n",
    "if (Giờ >= 0 and Giờ <= 24) and (Phút <= 59 and Phút >= 0) and (Giây <= 59 and Giây >= 0):\n",
    "    print('Giờ hợp lệ')\n",
    "else: \n",
    "    print('Giờ không hợp lệ')"
   ]
  },
  {
   "cell_type": "code",
   "execution_count": 30,
   "metadata": {},
   "outputs": [
    {
     "name": "stdout",
     "output_type": "stream",
     "text": [
      "Năm này là năm nhuận\n"
     ]
    }
   ],
   "source": [
    "# Để tính năm nhuận Dương lịch, chúng ta phải lấy năm đó đem chia cho 4. Nếu chia hết cho 4 thì năm Dương lịch đó là năm nhuận. \n",
    "# Vớinhững năm tròn thế kỷ (có 2 số 00 ở cuối) thì lấy số năm chia cho400. Nếu chia hết cho 400 thì năm đó là năm nhuận.\n",
    "# Nhập vào 1 năm\n",
    "# Kiểm tra năm đó có phải năm nhuận không\"\"\"\n",
    "#-------------------------------------------------------------------------------------------------------------------------------------------\n",
    "year = int(input('nhập năm: '))\n",
    "if year % 4 == 0:\n",
    "    if year % 100 == 0:\n",
    "        if year % 400 == 0:\n",
    "            print('Năm này là năm nhuận')\n",
    "        else: \n",
    "            print('Năm này không phải năm nhuận')\n",
    "    else:\n",
    "        print('Năm này là năm nhuận')\n"
   ]
  },
  {
   "cell_type": "code",
   "execution_count": null,
   "metadata": {},
   "outputs": [],
   "source": []
  },
  {
   "cell_type": "code",
   "execution_count": null,
   "metadata": {},
   "outputs": [],
   "source": []
  }
 ],
 "metadata": {
  "interpreter": {
   "hash": "2043299c89c8cd0b4d1a6f5cf4529bd58e6a4e0fe3181a25e0d328c821cdc5c5"
  },
  "kernelspec": {
   "display_name": "Python 3.9.7 ('base')",
   "language": "python",
   "name": "python3"
  },
  "language_info": {
   "codemirror_mode": {
    "name": "ipython",
    "version": 3
   },
   "file_extension": ".py",
   "mimetype": "text/x-python",
   "name": "python",
   "nbconvert_exporter": "python",
   "pygments_lexer": "ipython3",
   "version": "3.9.7"
  },
  "orig_nbformat": 4
 },
 "nbformat": 4,
 "nbformat_minor": 2
}
